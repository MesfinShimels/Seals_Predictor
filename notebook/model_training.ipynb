{
 "cells": [
  {
   "cell_type": "code",
   "execution_count": null,
   "metadata": {
    "vscode": {
     "languageId": "plaintext"
    }
   },
   "outputs": [],
   "source": [
    "# Import necessary libraries\n",
    "import pandas as pd\n",
    "from utils.data_processing import load_data, clean_data, save_cleaned_data"
   ]
  },
  {
   "cell_type": "code",
   "execution_count": null,
   "metadata": {
    "vscode": {
     "languageId": "plaintext"
    }
   },
   "outputs": [],
   "source": [
    "# Load data\n",
    "train_path = '../Data/train.csv'\n",
    "test_path = '../Data/test.csv'\n",
    "store_path = '../Data/store.csv'\n",
    "train, test, store = load_data(train_path, test_path, store_path)\n",
    "\n",
    "# Clean data\n",
    "train_cleaned, test_cleaned = clean_data(train, test, store)"
   ]
  },
  {
   "cell_type": "code",
   "execution_count": null,
   "metadata": {
    "vscode": {
     "languageId": "plaintext"
    }
   },
   "outputs": [],
   "source": [
    "\n",
    "# Save cleaned data\n",
    "save_cleaned_data(train_cleaned, test_cleaned)\n",
    "\n",
    "# Display summary\n",
    "print(\"Train Data Shape:\", train_cleaned.shape)\n",
    "print(\"Test Data Shape:\", test_cleaned.shape)\n",
    "\n",
    "# Check missing values\n",
    "print(\"Missing values in train:\", train_cleaned.isnull().sum())\n",
    "print(\"Missing values in test:\", test_cleaned.isnull().sum())\n"
   ]
  },
  {
   "cell_type": "code",
   "execution_count": null,
   "metadata": {
    "vscode": {
     "languageId": "plaintext"
    }
   },
   "outputs": [],
   "source": [
    "# Import libraries\n",
    "import pandas as pd\n",
    "from sklearn.model_selection import train_test_split\n",
    "from sklearn.ensemble import RandomForestRegressor\n",
    "from sklearn.metrics import mean_squared_error\n",
    "\n"
   ]
  },
  {
   "cell_type": "code",
   "execution_count": null,
   "metadata": {
    "vscode": {
     "languageId": "plaintext"
    }
   },
   "outputs": [],
   "source": [
    "# Load cleaned data\n",
    "train = pd.read_csv('../Cleaned_Data/clean_train.csv')\n",
    "\n",
    "# Prepare features and target\n",
    "X = train.drop(columns=['Sales', 'Date'])\n",
    "y = train['Sales']\n",
    "\n",
    "# Split data\n",
    "X_train, X_val, y_train, y_val = train_test_split(X, y, test_size=0.2, random_state=42)\n",
    "\n",
    "# Train Random Forest Model\n",
    "model = RandomForestRegressor(n_estimators=100, random_state=42)\n",
    "model.fit(X_train, y_train)\n",
    "\n",
    "# Evaluate model\n",
    "y_pred = model.predict(X_val)\n",
    "rmse = mean_squared_error(y_val, y_pred, squared=False)\n",
    "print(f\"Validation RMSE: {rmse}\")\n"
   ]
  }
 ],
 "metadata": {
  "language_info": {
   "name": "python"
  }
 },
 "nbformat": 4,
 "nbformat_minor": 2
}
