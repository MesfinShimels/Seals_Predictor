{
 "cells": [
  {
   "cell_type": "code",
   "execution_count": null,
   "metadata": {},
   "outputs": [],
   "source": [
    "# Import required libraries\n",
    "import pandas as pd\n",
    "import numpy as np\n",
    "import matplotlib.pyplot as plt\n",
    "import seaborn as sns\n",
    "import missingno as msno\n",
    "\n",
    "# Load datasets\n",
    "train = pd.read_csv('../data/train.csv')\n",
    "test = pd.read_csv('../data/test.csv')\n",
    "store = pd.read_csv('../data/store.csv')\n",
    "\n",
    "# Merge datasets\n",
    "train = train.merge(store, on='Store', how='left')\n",
    "\n",
    "# Check for missing values\n",
    "print(train.isnull().sum())\n",
    "msno.matrix(train)\n",
    "\n",
    "# Distribution of sales\n",
    "plt.figure(figsize=(10, 6))\n",
    "sns.histplot(train['Sales'], kde=True, bins=50)\n",
    "plt.title('Sales Distribution')\n",
    "plt.xlabel('Sales')\n",
    "plt.ylabel('Frequency')\n",
    "plt.show()\n",
    "\n",
    "# Sales during promotions\n",
    "plt.figure(figsize=(10, 6))\n",
    "sns.boxplot(x='Promo', y='Sales', data=train)\n",
    "plt.title('Sales During Promotions')\n",
    "plt.show()\n",
    "\n",
    "# Sales behavior around holidays\n",
    "plt.figure(figsize=(10, 6))\n",
    "sns.boxplot(x='StateHoliday', y='Sales', data=train)\n",
    "plt.title('Sales During Holidays')\n",
    "plt.show()\n",
    "\n",
    "# Save plots\n",
    "plt.savefig(\"../plots/sales_during_holidays.png\")\n",
    "\n",
    "# Seasonal patterns\n",
    "train['Date'] = pd.to_datetime(train['Date'])\n",
    "train['Month'] = train['Date'].dt.month\n",
    "train['DayOfWeek'] = train['Date'].dt.dayofweek\n",
    "\n",
    "plt.figure(figsize=(14, 8))\n",
    "sns.lineplot(x='Month', y='Sales', data=train)\n",
    "plt.title('Seasonal Sales Patterns')\n",
    "plt.show()\n",
    "\n",
    "# Correlation heatmap\n",
    "corr = train.corr()\n",
    "plt.figure(figsize=(12, 8))\n",
    "sns.heatmap(corr, annot=True, cmap='coolwarm')\n",
    "plt.title('Correlation Heatmap')\n",
    "plt.show()\n"
   ]
  },
  {
   "cell_type": "code",
   "execution_count": null,
   "metadata": {},
   "outputs": [],
   "source": [
    "import pandas as pd\n",
    "import seaborn as sns\n",
    "import matplotlib.pyplot as plt\n",
    "\n",
    "train = pd.read_csv('../Cleaned_Data/clean_train.csv')\n",
    "\n",
    "sns.histplot(train['Sales'], bins=50, kde=True)\n",
    "plt.title('Sales Distribution')\n",
    "plt.show()\n",
    "# next is correlation"
   ]
  },
  {
   "cell_type": "code",
   "execution_count": null,
   "metadata": {},
   "outputs": [],
   "source": [
    "correlation = train.corr()\n",
    "sns.heatmap(correlation, annot=True, cmap='coolwarm')\n",
    "plt.title('Correlation Heatmap')\n",
    "plt.show()\n"
   ]
  },
  {
   "cell_type": "code",
   "execution_count": null,
   "metadata": {},
   "outputs": [],
   "source": []
  }
 ],
 "metadata": {
  "kernelspec": {
   "display_name": ".venv",
   "language": "python",
   "name": "python3"
  },
  "language_info": {
   "name": "python",
   "version": "3.12.8"
  }
 },
 "nbformat": 4,
 "nbformat_minor": 2
}
