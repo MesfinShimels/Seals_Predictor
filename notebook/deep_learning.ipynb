{
 "cells": [
  {
   "cell_type": "code",
   "execution_count": null,
   "metadata": {
    "vscode": {
     "languageId": "plaintext"
    }
   },
   "outputs": [],
   "source": [
    "import pandas as pd\n",
    "from sklearn.preprocessing import MinMaxScaler\n",
    "from keras.models import Sequential\n",
    "from keras.layers import LSTM, Dense\n",
    "\n",
    "# Load data\n",
    "train = pd.read_csv('../Cleaned_Data/clean_train.csv')\n",
    "\n",
    "# Prepare data for LSTM\n",
    "scaler = MinMaxScaler(feature_range=(-1, 1))\n",
    "scaled_sales = scaler.fit_transform(train['Sales'].values.reshape(-1, 1))\n",
    "\n",
    "# Create time-series data\n",
    "X, y = [], []\n",
    "for i in range(30, len(scaled_sales)):\n",
    "    X.append(scaled_sales[i-30:i, 0])\n",
    "    y.append(scaled_sales[i, 0])\n",
    "X, y = np.array(X), np.array(y)\n",
    "\n",
    "# Build LSTM model\n",
    "model = Sequential()\n",
    "model.add(LSTM(50, activation='relu', input_shape=(X.shape[1], 1)))\n",
    "model.add(Dense(1))\n",
    "model.compile(optimizer='adam', loss='mse')\n",
    "model.fit(X, y, epochs=10, batch_size=32)\n"
   ]
  }
 ],
 "metadata": {
  "language_info": {
   "name": "python"
  }
 },
 "nbformat": 4,
 "nbformat_minor": 2
}
