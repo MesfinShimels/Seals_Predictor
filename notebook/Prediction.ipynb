{
 "cells": [
  {
   "cell_type": "code",
   "execution_count": null,
   "metadata": {},
   "outputs": [],
   "source": [
    "# Import libraries\n",
    "import pandas as pd\n",
    "import joblib\n",
    "\n",
    "# Load cleaned test data\n",
    "test = pd.read_csv('../Cleaned_Data/clean_test.csv')\n",
    "\n"
   ]
  },
  {
   "cell_type": "code",
   "execution_count": null,
   "metadata": {},
   "outputs": [],
   "source": [
    "# Load trained model\n",
    "model = joblib.load('../models/sales_model.pkl')\n",
    "\n",
    "# Prepare features for prediction\n",
    "X_test = test.drop(columns=['Id', 'Date'])\n",
    "\n",
    "\n"
   ]
  },
  {
   "cell_type": "code",
   "execution_count": null,
   "metadata": {},
   "outputs": [],
   "source": [
    "# Predict sales\n",
    "predictions = model.predict(X_test)\n",
    "\n",
    "# Save predictions\n",
    "output = pd.DataFrame({'Id': test['Id'], 'Sales': predictions})\n",
    "output.to_csv('../Findings/predictions.csv', index=False)\n",
    "print(\"Predictions saved to ../Findings/predictions.csv\")"
   ]
  }
 ],
 "metadata": {
  "kernelspec": {
   "display_name": ".venv",
   "language": "python",
   "name": "python3"
  },
  "language_info": {
   "name": "python",
   "version": "3.12.8"
  }
 },
 "nbformat": 4,
 "nbformat_minor": 2
}
